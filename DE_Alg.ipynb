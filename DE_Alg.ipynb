{
 "cells": [
  {
   "cell_type": "code",
   "execution_count": null,
   "id": "2d519992",
   "metadata": {},
   "outputs": [],
   "source": [
    "import numpy as np\n",
    "\n",
    "def differential_evolution(cost_func, bounds, pop_size=20, mutation=0.8, crossover=0.7, generations=200):\n",
    "    dimensions = len(bounds)\n",
    "    pop = np.random.rand(pop_size, dimensions)\n",
    "    min_b, max_b = np.asarray(bounds).T\n",
    "    print(f\"\"\"\n",
    "    Min b = {min_b}\n",
    "    Max b = {max_b}\n",
    "    \"\"\")\n",
    "    diff = np.fabs(min_b - max_b)\n",
    "    pop_denorm = min_b + pop * diff\n",
    "    fitness = np.asarray([cost_func(ind) for ind in pop_denorm])\n",
    "    best_idx = np.argmin(fitness)\n",
    "    best = pop_denorm[best_idx]\n",
    "    \n",
    "    for i in range(generations):\n",
    "        for j in range(pop_size):\n",
    "            idxs = [idx for idx in range(pop_size) if idx != j]\n",
    "            a, b, c = pop[np.random.choice(idxs, 3, replace=False)]\n",
    "            mutant = np.clip(a + mutation * (b - c), 0, 1)\n",
    "            cross_points = np.random.rand(dimensions) < crossover\n",
    "            if not np.any(cross_points):\n",
    "                cross_points[np.random.randint(0, dimensions)] = True\n",
    "            trial = np.where(cross_points, mutant, pop[j])\n",
    "            trial_denorm = min_b + trial * diff\n",
    "            f = cost_func(trial_denorm)\n",
    "            if f < fitness[j]:\n",
    "                fitness[j] = f\n",
    "                pop[j] = trial\n",
    "                if f < fitness[best_idx]:\n",
    "                    best_idx = j\n",
    "                    best = trial_denorm\n",
    "    return best, fitness[best_idx]\n"
   ]
  },
  {
   "cell_type": "code",
   "execution_count": 23,
   "id": "5e951bfd",
   "metadata": {},
   "outputs": [],
   "source": [
    "def cost_function(params):\n",
    "    # Unpack parameters\n",
    "    Nx, Ny, Lx, Ly, h, Nr, Lr, A_grid, t_rev = params\n",
    "\n",
    "    # Material costs (per unit)\n",
    "    c_conductor = 0  # $/m\n",
    "    c_excavation = 261.59 # $/m³\n",
    "    c_welding = 12  # $/joint\n",
    "    c_rod = 0  # $/m\n",
    "    c_rev = 25  # $/m³\n",
    "\n",
    "    # Cost components\n",
    "    C1 = (Nx * Lx + Ny * Ly) * c_conductor\n",
    "    C2 = (Nx * Lx + Ny * Ly) * h * c_excavation\n",
    "    C3 = (Nx + Ny) * c_welding\n",
    "    C4 = Nr * Lr * c_rod\n",
    "    C5 = A_grid * t_rev * c_rev\n",
    "    C6 = A_grid * h * c_excavation\n",
    "\n",
    "    # Total cost\n",
    "    C_total = C1 + C2 + C3 + C4 + C5 + C6\n",
    "    return C_total\n"
   ]
  },
  {
   "cell_type": "code",
   "execution_count": 24,
   "id": "5fe1e5c9",
   "metadata": {},
   "outputs": [],
   "source": [
    "bounds = [\n",
    "    (10, 150),        # Nx: No. of conductors in x-direction\n",
    "    (10, 150),        # Ny: No. of conductors in y-direction\n",
    "    (10.0, 200.0),    # Lx: Length of each x-conductor (m)\n",
    "    (10.0, 200.0),    # Ly: Length of each y-conductor (m)\n",
    "    (0.5, 2.5),       # h: Depth of burial (m) – deeper for 345 kV systems\n",
    "    (10, 200),        # Nr: No. of vertical rods\n",
    "    (1.0, 15.0),      # Lr: Length of each rod (m)\n",
    "    (161874, 161874.0),# A_grid: Area of the grounding grid (m²)\n",
    "    (0.05, 0.3)       # t_rev: Thickness of revetment layer (m)\n",
    "]"
   ]
  },
  {
   "cell_type": "code",
   "execution_count": 25,
   "id": "69e61edb",
   "metadata": {},
   "outputs": [
    {
     "name": "stdout",
     "output_type": "stream",
     "text": [
      "Optimal Parameters: [1.00000000e+01 1.00000000e+01 1.00000000e+01 1.00000000e+01\n",
      " 5.00000000e-01 2.00000000e+02 1.03136228e+01 1.61874000e+05\n",
      " 5.00000000e-02]\n",
      "Minimum Cost: $ 21401051.33\n"
     ]
    }
   ],
   "source": [
    "best_params, min_cost = differential_evolution(cost_function, bounds)\n",
    "print(\"Optimal Parameters:\", best_params)\n",
    "print(\"Minimum Cost: $\", min_cost)"
   ]
  },
  {
   "cell_type": "code",
   "execution_count": null,
   "id": "74d76ef1",
   "metadata": {},
   "outputs": [],
   "source": []
  }
 ],
 "metadata": {
  "kernelspec": {
   "display_name": "base",
   "language": "python",
   "name": "python3"
  },
  "language_info": {
   "codemirror_mode": {
    "name": "ipython",
    "version": 3
   },
   "file_extension": ".py",
   "mimetype": "text/x-python",
   "name": "python",
   "nbconvert_exporter": "python",
   "pygments_lexer": "ipython3",
   "version": "3.12.2"
  }
 },
 "nbformat": 4,
 "nbformat_minor": 5
}
